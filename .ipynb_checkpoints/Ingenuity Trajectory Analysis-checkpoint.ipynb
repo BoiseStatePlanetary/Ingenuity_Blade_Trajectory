{
 "cells": [
  {
   "cell_type": "markdown",
   "id": "fd65ede9-11be-4103-a0da-cf8324bf25b7",
   "metadata": {},
   "source": [
    "Trying to constrain the crash scenario for Ingenuity based on a simple projectile trajectory analysis of the blade chunk."
   ]
  },
  {
   "cell_type": "markdown",
   "id": "83b2706e-294c-40c0-841d-39306f3ae773",
   "metadata": {},
   "source": [
    "<img src=\"Screenshot 2024-02-28 at 11.53.49 AM.png\" alt=\"Alternative text\" width=500/>"
   ]
  },
  {
   "cell_type": "markdown",
   "id": "26b98236-e6fa-4d81-a034-67a9083c9adc",
   "metadata": {},
   "source": [
    "From https://twitter.com/stim3on/status/1754563477153173641?s=21&t=3m_tNxM_JUIL9nvm3vLgxg"
   ]
  },
  {
   "cell_type": "code",
   "execution_count": null,
   "id": "cfca51bd-9c14-4dad-ae4d-07f15e5e8965",
   "metadata": {},
   "outputs": [],
   "source": []
  }
 ],
 "metadata": {
  "kernelspec": {
   "display_name": "Python 3 (ipykernel)",
   "language": "python",
   "name": "python3"
  },
  "language_info": {
   "codemirror_mode": {
    "name": "ipython",
    "version": 3
   },
   "file_extension": ".py",
   "mimetype": "text/x-python",
   "name": "python",
   "nbconvert_exporter": "python",
   "pygments_lexer": "ipython3",
   "version": "3.12.2"
  }
 },
 "nbformat": 4,
 "nbformat_minor": 5
}
